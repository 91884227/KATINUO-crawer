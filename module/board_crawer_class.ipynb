{
 "cells": [
  {
   "cell_type": "markdown",
   "metadata": {},
   "source": [
    "# import tool"
   ]
  },
  {
   "cell_type": "code",
   "execution_count": 1,
   "metadata": {},
   "outputs": [],
   "source": [
    "import time, re\n",
    "from bs4 import BeautifulSoup\n",
    "from tqdm import tqdm\n",
    "import numpy as np\n",
    "import itertools\n",
    "import pandas as pd\n",
    "import sys\n",
    "import warnings\n",
    "import requests\n",
    "warnings.filterwarnings(\"ignore\")"
   ]
  },
  {
   "cell_type": "markdown",
   "metadata": {},
   "source": [
    "# find max page"
   ]
  },
  {
   "cell_type": "code",
   "execution_count": null,
   "metadata": {},
   "outputs": [],
   "source": [
    "class board_crawer:\n",
    "    def __init__(self, board_ = 3867, constrain_ = True):\n",
    "        self.board = board_\n",
    "        self.my_headers =  {\"User-Agent\": \"Mozilla/5.0 (Windows NT 10.0; Win64; x64) AppleWebKit/537.36 (KHTML, like Gecko) Chrome/81.0.4044.122 Safari/537.36\"}\n",
    "        \n",
    "        print(\"start to get data from %d BOARD\" % self.board)\n",
    "        print(\"find max page of %d board\" % self.board)\n",
    "        self.get_max_page(constrain_)\n",
    "        \n",
    "        print(\"create url list\")\n",
    "        temp = \"https://ck101.com/forum-%d-\" % self.board\n",
    "        list_URL = [temp + \"%d.html\" % i for i in np.arange(1, self.MAX_page+1)]\n",
    "        \n",
    "        print(\"start to get all the block\")\n",
    "        buf = [ self.URL_find_block(i) for i in tqdm(list_URL)]\n",
    "        list_block = list(itertools.chain(*buf))  \n",
    "\n",
    "        print(\"start to get title and data from block\")\n",
    "        try:\n",
    "            self.data = [ self.block_get_title_data(i) for i in list_block]\n",
    "            print(\"success to get %d board data\" % self.board)\n",
    "        except:\n",
    "            print(\"fail to get %d board data\" % self.board)\n",
    "        \n",
    "    \n",
    "    def get_max_page(self, constrain_):\n",
    "        if( constrain_):\n",
    "            self.MAX_page = 3\n",
    "        else:\n",
    "            try:\n",
    "                #\n",
    "                url =  \"https://ck101.com/forum-%d-1.html\" % self.board\n",
    "                r = requests.get(url, headers = self.my_headers)\n",
    "                soup =  BeautifulSoup(r.text)\n",
    "                buf = soup.select(\".pageNumber\")[0].text\n",
    "                self.MAX_page = int(buf.replace(\"\\n\",'').replace(\"/\",''))\n",
    "                print(\"Success to get Max page of %s: %d\" % (url, self.MAX_page))\n",
    "            except:\n",
    "                print(\"fail to get Max page of %s\" % url)\n",
    "            \n",
    "    def URL_find_block(self, URL_):\n",
    "        buf = None\n",
    "        try:\n",
    "            time.sleep(0.5)\n",
    "            r = requests.get(URL_, headers = self.my_headers)\n",
    "            soup = BeautifulSoup(r.text)\n",
    "            buf = soup.select(\".subject\")\n",
    "        except:\n",
    "            print(\"error in block_get_title_data: %s\" % URL_)\n",
    "\n",
    "        return(buf)   \n",
    "    \n",
    "    def block_get_title_data(self, block_):\n",
    "        buf_title = \"block_get_title_data---error---\"\n",
    "        buf_date = \"block_get_title_data---error---\"\n",
    "        try:\n",
    "            buf_title = block_.select(\".s.xst\")[0]['title']\n",
    "            buf_date = block_.select(\".postInfo_dateline\")[0].text\n",
    "        except:\n",
    "            print(\"error in block_get_title_data\")\n",
    "           # print(block_)\n",
    "\n",
    "        return( (buf_title, buf_date, self.board) )    "
   ]
  },
  {
   "cell_type": "code",
   "execution_count": null,
   "metadata": {},
   "outputs": [
    {
     "name": "stdout",
     "output_type": "stream",
     "text": [
      "start to get data from 3867 BOARD\n",
      "find max page of 3867 board\n"
     ]
    },
    {
     "name": "stderr",
     "output_type": "stream",
     "text": [
      "\r",
      "  0%|                                                                                         | 0/4466 [00:00<?, ?it/s]"
     ]
    },
    {
     "name": "stdout",
     "output_type": "stream",
     "text": [
      "Success to get Max page of https://ck101.com/forum-3867-1.html: 4466\n",
      "create url list\n",
      "start to get all the block\n"
     ]
    },
    {
     "name": "stderr",
     "output_type": "stream",
     "text": [
      "  1%|▉                                                                             | 51/4466 [01:37<2:20:53,  1.91s/it]"
     ]
    }
   ],
   "source": [
    "test = board_crawer( board_ = 3867,  constrain_ = False)"
   ]
  },
  {
   "cell_type": "code",
   "execution_count": null,
   "metadata": {},
   "outputs": [],
   "source": []
  }
 ],
 "metadata": {
  "kernelspec": {
   "display_name": "Python 3",
   "language": "python",
   "name": "python3"
  },
  "language_info": {
   "codemirror_mode": {
    "name": "ipython",
    "version": 3
   },
   "file_extension": ".py",
   "mimetype": "text/x-python",
   "name": "python",
   "nbconvert_exporter": "python",
   "pygments_lexer": "ipython3",
   "version": "3.6.4"
  }
 },
 "nbformat": 4,
 "nbformat_minor": 2
}
